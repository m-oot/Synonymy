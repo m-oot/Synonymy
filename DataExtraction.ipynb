{
 "cells": [
  {
   "cell_type": "code",
   "execution_count": 117,
   "metadata": {},
   "outputs": [],
   "source": [
    "import nltk\n",
    "from nltk.corpus import wordnet as wn\n",
    "from nltk.corpus import brown\n",
    "import random\n",
    "from PyDictionary import PyDictionary"
   ]
  },
  {
   "cell_type": "markdown",
   "metadata": {},
   "source": [
    "# Get a list of words that feels more natural to guess"
   ]
  },
  {
   "cell_type": "code",
   "execution_count": 118,
   "metadata": {},
   "outputs": [],
   "source": [
    "#Get all Adjectives, Adverbs\n",
    "adjectives = {(word, pos) for word, pos in brown.tagged_words(tagset='universal') if pos.startswith('AD')} "
   ]
  },
  {
   "cell_type": "code",
   "execution_count": 119,
   "metadata": {},
   "outputs": [],
   "source": [
    "#Get all Verbs\n",
    "verbs = {(word, pos) for word, pos in brown.tagged_words(tagset='universal') if pos.startswith('V')} "
   ]
  },
  {
   "cell_type": "code",
   "execution_count": 120,
   "metadata": {},
   "outputs": [],
   "source": [
    "#Join Adjectives and Verbs\n",
    "words = adjectives.union(verbs)"
   ]
  },
  {
   "cell_type": "markdown",
   "metadata": {},
   "source": [
    "# Get accepted synonyms, and definition for our list of words"
   ]
  },
  {
   "cell_type": "code",
   "execution_count": 121,
   "metadata": {},
   "outputs": [],
   "source": [
    "def getDefinition(word):\n",
    "    syns = wn.synsets(word)\n",
    "    try:\n",
    "        return syns[0].definition()\n",
    "    except:\n",
    "        return "
   ]
  },
  {
   "cell_type": "code",
   "execution_count": 122,
   "metadata": {},
   "outputs": [],
   "source": [
    "def getSynonyms(word):\n",
    "    synonyms = []\n",
    "    for syn in wn.synsets(word):\n",
    "        for lm in syn.lemmas():\n",
    "            #Replace underscores with space so alexa can say them better\n",
    "            synonyms.append(lm.name().replace(\"_\", \" \"))\n",
    "    #Make sure to remove any 'synonyms' that are the word itself\n",
    "    return set([synonym for synonym in synonyms if synonym != word])"
   ]
  },
  {
   "cell_type": "code",
   "execution_count": 123,
   "metadata": {},
   "outputs": [],
   "source": [
    "def createWordTuple(word, pos):\n",
    "    synonyms = getSynonyms(word)\n",
    "    definition = getDefinition(word)  \n",
    "    return (word, pos), synonyms, definition"
   ]
  },
  {
   "cell_type": "code",
   "execution_count": 124,
   "metadata": {},
   "outputs": [],
   "source": [
    "word_set = []\n",
    "for w, pos in words:\n",
    "    word_tuple = createWordTuple(w, pos)\n",
    "    #only add word tuples that have synonyms and a definiton\n",
    "    if(len(word_tuple[1]) > 0 and len(word_tuple[2]) > 0):\n",
    "        word_set.append(word_tuple)"
   ]
  },
  {
   "cell_type": "code",
   "execution_count": 128,
   "metadata": {},
   "outputs": [
    {
     "data": {
      "text/plain": [
       "[(('imposed', 'VERB'),\n",
       "  {'bring down', 'enforce', 'impose', 'inflict', 'levy', 'visit'},\n",
       "  'compel to behave in a certain way'),\n",
       " (('furloughed', 'VERB'),\n",
       "  {'furlough', 'lay off'},\n",
       "  'dismiss, usually for economic reasons'),\n",
       " (('erect', 'ADJ'),\n",
       "  {'put up', 'raise', 'rear', 'set up', 'tumid', 'upright', 'vertical'},\n",
       "  'construct, build, or erect'),\n",
       " (('Beyond', 'ADP'), {'beyond'}, 'farther along in space or time or degree'),\n",
       " (('bustling', 'VERB'),\n",
       "  {'bustle', 'bustle about', 'hustle'},\n",
       "  'move or cause to move energetically or busily')]"
      ]
     },
     "execution_count": 128,
     "metadata": {},
     "output_type": "execute_result"
    }
   ],
   "source": [
    "word_set[:5]"
   ]
  },
  {
   "cell_type": "markdown",
   "metadata": {},
   "source": [
    "# Saving data set to a pickle"
   ]
  },
  {
   "cell_type": "code",
   "execution_count": 129,
   "metadata": {},
   "outputs": [],
   "source": [
    "import pickle"
   ]
  },
  {
   "cell_type": "code",
   "execution_count": 130,
   "metadata": {},
   "outputs": [],
   "source": [
    "with open('word_set', 'wb') as f:\n",
    "    pickle.dump(word_set, f)"
   ]
  },
  {
   "cell_type": "code",
   "execution_count": null,
   "metadata": {},
   "outputs": [],
   "source": []
  },
  {
   "cell_type": "code",
   "execution_count": null,
   "metadata": {},
   "outputs": [],
   "source": []
  }
 ],
 "metadata": {
  "kernelspec": {
   "display_name": "Python 3",
   "language": "python",
   "name": "python3"
  },
  "language_info": {
   "codemirror_mode": {
    "name": "ipython",
    "version": 3
   },
   "file_extension": ".py",
   "mimetype": "text/x-python",
   "name": "python",
   "nbconvert_exporter": "python",
   "pygments_lexer": "ipython3",
   "version": "3.7.1"
  }
 },
 "nbformat": 4,
 "nbformat_minor": 2
}
