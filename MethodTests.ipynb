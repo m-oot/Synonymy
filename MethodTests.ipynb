{
 "cells": [
  {
   "cell_type": "code",
   "execution_count": 62,
   "metadata": {},
   "outputs": [],
   "source": [
    "import pickle\n",
    "import random"
   ]
  },
  {
   "cell_type": "markdown",
   "metadata": {},
   "source": [
    "# Open data file"
   ]
  },
  {
   "cell_type": "code",
   "execution_count": 60,
   "metadata": {},
   "outputs": [],
   "source": [
    "with open('word_set', 'rb') as f:\n",
    "    my_list = pickle.load(f)"
   ]
  },
  {
   "cell_type": "code",
   "execution_count": 61,
   "metadata": {
    "scrolled": false
   },
   "outputs": [
    {
     "data": {
      "text/plain": [
       "[(('imposed', 'VERB'),\n",
       "  {'bring down', 'enforce', 'impose', 'inflict', 'levy', 'visit'},\n",
       "  'compel to behave in a certain way'),\n",
       " (('furloughed', 'VERB'),\n",
       "  {'furlough', 'lay off'},\n",
       "  'dismiss, usually for economic reasons'),\n",
       " (('erect', 'ADJ'),\n",
       "  {'put up', 'raise', 'rear', 'set up', 'tumid', 'upright', 'vertical'},\n",
       "  'construct, build, or erect'),\n",
       " (('Beyond', 'ADP'), {'beyond'}, 'farther along in space or time or degree'),\n",
       " (('bustling', 'VERB'),\n",
       "  {'bustle', 'bustle about', 'hustle'},\n",
       "  'move or cause to move energetically or busily')]"
      ]
     },
     "execution_count": 61,
     "metadata": {},
     "output_type": "execute_result"
    }
   ],
   "source": [
    "my_list[:5]"
   ]
  },
  {
   "cell_type": "markdown",
   "metadata": {},
   "source": [
    "# Get Random Word"
   ]
  },
  {
   "cell_type": "code",
   "execution_count": 63,
   "metadata": {},
   "outputs": [],
   "source": [
    "def get_random_word():\n",
    "    \"\"\"Returns a random word and a list of synonyms for that word.\"\"\"\n",
    "    word = []\n",
    "    with open('word_set', 'rb') as f:\n",
    "        my_list = pickle.load(f)\n",
    "        word = random.choice(my_list)\n",
    "\n",
    "    return word"
   ]
  },
  {
   "cell_type": "code",
   "execution_count": 69,
   "metadata": {},
   "outputs": [],
   "source": [
    "next_question = get_random_word()\n",
    "\n",
    "random_word = next_question[0][0]\n",
    "pos =next_question[0][1]\n",
    "synonyms = list(next_question[1])\n",
    "definition = next_question[2]"
   ]
  },
  {
   "cell_type": "code",
   "execution_count": 70,
   "metadata": {},
   "outputs": [
    {
     "name": "stdout",
     "output_type": "stream",
     "text": [
      "accommodated VERB ['conciliate', 'admit', 'reconcile', 'oblige', 'hold', 'suit', 'fit', 'adapt', 'accommodate', 'lodge'] be agreeable or acceptable to\n"
     ]
    }
   ],
   "source": [
    "print(random_word, pos, synonyms, definition)"
   ]
  },
  {
   "cell_type": "markdown",
   "metadata": {},
   "source": [
    "# Get Definition Speech"
   ]
  },
  {
   "cell_type": "code",
   "execution_count": 74,
   "metadata": {},
   "outputs": [],
   "source": [
    "def getDefinitionSpeech(word, pos, definition):\n",
    "    spelled_as = \"<say-as interpret-as='spell-out'> {} </say-as>\".format(word)\n",
    "    return \"{}, {}. Spelled as {}. The definition of {} is {}.\".format(\n",
    "        word, pos, spelled_as, word, definition)"
   ]
  },
  {
   "cell_type": "code",
   "execution_count": 75,
   "metadata": {},
   "outputs": [
    {
     "data": {
      "text/plain": [
       "\"accommodated, VERB. Spelled as <say-as interpret-as='spell-out'> accommodated </say-as>. The definition of accommodated is be agreeable or acceptable to.\""
      ]
     },
     "execution_count": 75,
     "metadata": {},
     "output_type": "execute_result"
    }
   ],
   "source": [
    "getDefinitionSpeech(random_word, pos, definition)"
   ]
  },
  {
   "cell_type": "code",
   "execution_count": null,
   "metadata": {},
   "outputs": [],
   "source": []
  }
 ],
 "metadata": {
  "kernelspec": {
   "display_name": "Python 3",
   "language": "python",
   "name": "python3"
  },
  "language_info": {
   "codemirror_mode": {
    "name": "ipython",
    "version": 3
   },
   "file_extension": ".py",
   "mimetype": "text/x-python",
   "name": "python",
   "nbconvert_exporter": "python",
   "pygments_lexer": "ipython3",
   "version": "3.7.1"
  }
 },
 "nbformat": 4,
 "nbformat_minor": 2
}
